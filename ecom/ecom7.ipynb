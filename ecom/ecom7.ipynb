{
  "cells": [
    {
      "cell_type": "code",
      "execution_count": null,
      "metadata": {
        "id": "Y6knSazzxSEN"
      },
      "outputs": [],
      "source": [
        "import numpy as np\n",
        "import pandas as pd\n",
        "import seaborn as snb\n",
        "import os\n",
        "import matplotlib.pyplot as plt\n",
        "from sklearn.model_selection import train_test_split\n",
        "from sklearn.metrics import mean_absolute_error, accuracy_score, confusion_matrix\n",
        "from sklearn.preprocessing import LabelEncoder, OneHotEncoder, StandardScaler\n",
        "from sklearn.compose import ColumnTransformer\n",
        "from sklearn.pipeline import Pipeline\n",
        "from sklearn.impute import SimpleImputer\n",
        "from sklearn.neighbors import KNeighborsRegressor\n",
        "from sklearn.feature_extraction.text import TfidfVectorizer\n",
        "from sklearn.metrics.pairwise import linear_kernel\n",
        "from sklearn.metrics.pairwise import cosine_similarity\n"
      ]
    },
    {
      "cell_type": "code",
      "source": [
        "from google.colab import drive\n",
        "drive.mount('/content/drive')"
      ],
      "metadata": {
        "colab": {
          "base_uri": "https://localhost:8080/"
        },
        "id": "Oi7CmhtgzPpw",
        "outputId": "e83a1028-cbec-4879-fb66-d50a598026f1"
      },
      "execution_count": null,
      "outputs": [
        {
          "output_type": "stream",
          "name": "stdout",
          "text": [
            "Drive already mounted at /content/drive; to attempt to forcibly remount, call drive.mount(\"/content/drive\", force_remount=True).\n"
          ]
        }
      ]
    },
    {
      "cell_type": "code",
      "execution_count": null,
      "metadata": {
        "id": "oc5UhS_wxluA"
      },
      "outputs": [],
      "source": [
        "\n",
        "df = pd.read_csv(\"/content/drive/MyDrive/x/datasets /E commerce dataset/flipkart/flipkart1.csv\")\n"
      ]
    },
    {
      "cell_type": "code",
      "execution_count": null,
      "metadata": {
        "colab": {
          "base_uri": "https://localhost:8080/"
        },
        "id": "KSGywuBzQGi-",
        "outputId": "51555961-e112-4450-814e-141c8cfc2579"
      },
      "outputs": [
        {
          "output_type": "stream",
          "name": "stdout",
          "text": [
            "<bound method NDFrame.head of        Unnamed: 0                                   _id  actual_price  \\\n",
            "0               0  fa8e22d6-c0b6-5229-bb9e-ad52eda39a0a        2999.0   \n",
            "1               1  893e6980-f2a0-531f-b056-34dd63fe912c        1499.0   \n",
            "2               2  eb4c8eab-8206-59d0-bcd1-a724d96bf74f        2999.0   \n",
            "3               3  3f3f97bb-5faf-57df-a9ff-1af24e2b1045        2999.0   \n",
            "4               4  750caa3d-6264-53ca-8ce1-94118a1d8951        2999.0   \n",
            "...           ...                                   ...           ...   \n",
            "29995       29995  3705c6bd-6f23-529a-9b64-15b8fc568efa        2299.0   \n",
            "29996       29996  f2a683e4-634d-5a11-8950-2d56b924576d         799.0   \n",
            "29997       29997  1efa858c-1360-59a6-9624-bb04eddb492c        4999.0   \n",
            "29998       29998  9fdfdd22-487b-599b-8be6-5dd00eb987c5        3125.0   \n",
            "29999       29999  a5396fab-753c-5cd7-bad9-050964f95a0f        3125.0   \n",
            "\n",
            "       average_rating brand                  category            crawled_at  \\\n",
            "0                 3.9  York  Clothing and Accessories  02/10/2021, 20:11:51   \n",
            "1                 3.9  York  Clothing and Accessories  02/10/2021, 20:11:52   \n",
            "2                 3.9  York  Clothing and Accessories  02/10/2021, 20:11:52   \n",
            "3                 3.9  York  Clothing and Accessories  02/10/2021, 20:11:53   \n",
            "4                 3.9  York  Clothing and Accessories  02/10/2021, 20:11:53   \n",
            "...               ...   ...                       ...                   ...   \n",
            "29995             NaN   Oka  Clothing and Accessories  02/11/2021, 01:31:54   \n",
            "29996             3.8   Oka  Clothing and Accessories  02/11/2021, 01:31:54   \n",
            "29997             NaN   Oka  Clothing and Accessories  02/11/2021, 01:31:54   \n",
            "29998             3.8   Oka  Clothing and Accessories  02/11/2021, 01:31:55   \n",
            "29999             NaN   Oka  Clothing and Accessories  02/11/2021, 01:31:55   \n",
            "\n",
            "      description                                           discount  \\\n",
            "0         69% off  Yorker trackpants made from 100% rich combed c...   \n",
            "1         66% off  Yorker trackpants made from 100% rich combed c...   \n",
            "2         68% off  Yorker trackpants made from 100% rich combed c...   \n",
            "3         69% off  Yorker trackpants made from 100% rich combed c...   \n",
            "4         68% off  Yorker trackpants made from 100% rich combed c...   \n",
            "...           ...                                                ...   \n",
            "29995     40% off                                                NaN   \n",
            "29996     34% off                                                NaN   \n",
            "29997     40% off                                                NaN   \n",
            "29998     40% off                                                NaN   \n",
            "29999     40% off  ‘OKANE’ endeavors to continue to be a leader i...   \n",
            "\n",
            "                                                  images  out_of_stock  \\\n",
            "0      ['https://rukminim1.flixcart.com/image/128/128...         False   \n",
            "1      ['https://rukminim1.flixcart.com/image/128/128...         False   \n",
            "2      ['https://rukminim1.flixcart.com/image/128/128...         False   \n",
            "3      ['https://rukminim1.flixcart.com/image/128/128...         False   \n",
            "4      ['https://rukminim1.flixcart.com/image/128/128...         False   \n",
            "...                                                  ...           ...   \n",
            "29995  ['https://rukminim1.flixcart.com/image/128/128...          True   \n",
            "29996  ['https://rukminim1.flixcart.com/image/128/128...         False   \n",
            "29997  ['https://rukminim1.flixcart.com/image/128/128...          True   \n",
            "29998  ['https://rukminim1.flixcart.com/image/128/128...         False   \n",
            "29999  ['https://rukminim1.flixcart.com/image/128/128...          True   \n",
            "\n",
            "                    pid                                    product_details  \\\n",
            "0      TKPFCZ9EA7H5FYZH  [{'Style Code': '1005COMBO2'}, {'Closure': 'El...   \n",
            "1      TKPFCZ9EJZV2UVRZ  [{'Style Code': '1005BLUE'}, {'Closure': 'Draw...   \n",
            "2      TKPFCZ9EHFCY5Z4Y  [{'Style Code': '1005COMBO4'}, {'Closure': 'El...   \n",
            "3      TKPFCZ9ESZZ7YWEF  [{'Style Code': '1005COMBO3'}, {'Closure': 'El...   \n",
            "4      TKPFCZ9EVXKBSUD7  [{'Style Code': '1005COMBO1'}, {'Closure': 'Dr...   \n",
            "...                 ...                                                ...   \n",
            "29995  JCKFYPM35WMMTAEN  [{'Color': 'Blue'}, {'Fabric': 'Nylon'}, {'Pat...   \n",
            "29996  SRTFV8S7DCEWAQVH  [{'Fabric': 'Polycotton'}, {'Pattern': 'Printe...   \n",
            "29997  BZRFNAH7NWUB6F5E  [{'Color': 'Grey'}, {'Fabric': 'Tweed'}, {'Pat...   \n",
            "29998  JCKFWZZM6V7RS5EA  [{'Color': 'Blue'}, {'Fabric': 'Nylon'}, {'Pat...   \n",
            "29999  JCKFWTPCWNQSFAH3  [{'Color': 'Blue'}, {'Fabric': 'Nylon'}, {'Pat...   \n",
            "\n",
            "                  seller  selling_price                   sub_category  \\\n",
            "0      Shyam Enterprises          921.0                     Bottomwear   \n",
            "1      Shyam Enterprises          499.0                     Bottomwear   \n",
            "2      Shyam Enterprises          931.0                     Bottomwear   \n",
            "3      Shyam Enterprises          911.0                     Bottomwear   \n",
            "4      Shyam Enterprises          943.0                     Bottomwear   \n",
            "...                  ...            ...                            ...   \n",
            "29995                NaN         1379.0                    Winter Wear   \n",
            "29996              OKANE          520.0                     Bottomwear   \n",
            "29997                NaN         2999.0  Blazers, Waistcoats and Suits   \n",
            "29998              OKANE         1875.0                    Winter Wear   \n",
            "29999                NaN         1875.0                    Winter Wear   \n",
            "\n",
            "                                                   title  \\\n",
            "0                       Solid Men Multicolor Track Pants   \n",
            "1                             Solid Men Blue Track Pants   \n",
            "2                       Solid Men Multicolor Track Pants   \n",
            "3                       Solid Men Multicolor Track Pants   \n",
            "4                      Solid Men Brown, Grey Track Pants   \n",
            "...                                                  ...   \n",
            "29995                        Sleeveless Solid Men Jacket   \n",
            "29996                    Printed Men Blue Regular Shorts   \n",
            "29997  Checkered Single Breasted Casual Men Full Slee...   \n",
            "29998                Full Sleeve Solid Men Casual Jacket   \n",
            "29999                Full Sleeve Solid Men Casual Jacket   \n",
            "\n",
            "                                                     url  \n",
            "0      https://www.flipkart.com/yorker-solid-men-mult...  \n",
            "1      https://www.flipkart.com/yorker-solid-men-blue...  \n",
            "2      https://www.flipkart.com/yorker-solid-men-mult...  \n",
            "3      https://www.flipkart.com/yorker-solid-men-mult...  \n",
            "4      https://www.flipkart.com/yorker-solid-men-brow...  \n",
            "...                                                  ...  \n",
            "29995  https://www.flipkart.com/okane-sleeveless-soli...  \n",
            "29996  https://www.flipkart.com/okane-printed-men-blu...  \n",
            "29997  https://www.flipkart.com/okane-checkered-singl...  \n",
            "29998  https://www.flipkart.com/okane-full-sleeve-sol...  \n",
            "29999  https://www.flipkart.com/okane-full-sleeve-sol...  \n",
            "\n",
            "[30000 rows x 18 columns]>\n"
          ]
        }
      ],
      "source": [
        "print(df.head)"
      ]
    },
    {
      "cell_type": "code",
      "execution_count": null,
      "metadata": {
        "colab": {
          "base_uri": "https://localhost:8080/"
        },
        "id": "MzF8bz3Gx1Ai",
        "outputId": "b5973578-d00a-4fb0-e919-a3060e6ebf2d"
      },
      "outputs": [
        {
          "output_type": "stream",
          "name": "stdout",
          "text": [
            "<bound method NDFrame.describe of        Unnamed: 0                                   _id  actual_price  \\\n",
            "0               0  fa8e22d6-c0b6-5229-bb9e-ad52eda39a0a        2999.0   \n",
            "1               1  893e6980-f2a0-531f-b056-34dd63fe912c        1499.0   \n",
            "2               2  eb4c8eab-8206-59d0-bcd1-a724d96bf74f        2999.0   \n",
            "3               3  3f3f97bb-5faf-57df-a9ff-1af24e2b1045        2999.0   \n",
            "4               4  750caa3d-6264-53ca-8ce1-94118a1d8951        2999.0   \n",
            "...           ...                                   ...           ...   \n",
            "29995       29995  3705c6bd-6f23-529a-9b64-15b8fc568efa        2299.0   \n",
            "29996       29996  f2a683e4-634d-5a11-8950-2d56b924576d         799.0   \n",
            "29997       29997  1efa858c-1360-59a6-9624-bb04eddb492c        4999.0   \n",
            "29998       29998  9fdfdd22-487b-599b-8be6-5dd00eb987c5        3125.0   \n",
            "29999       29999  a5396fab-753c-5cd7-bad9-050964f95a0f        3125.0   \n",
            "\n",
            "       average_rating brand                  category            crawled_at  \\\n",
            "0                 3.9  York  Clothing and Accessories  02/10/2021, 20:11:51   \n",
            "1                 3.9  York  Clothing and Accessories  02/10/2021, 20:11:52   \n",
            "2                 3.9  York  Clothing and Accessories  02/10/2021, 20:11:52   \n",
            "3                 3.9  York  Clothing and Accessories  02/10/2021, 20:11:53   \n",
            "4                 3.9  York  Clothing and Accessories  02/10/2021, 20:11:53   \n",
            "...               ...   ...                       ...                   ...   \n",
            "29995             NaN   Oka  Clothing and Accessories  02/11/2021, 01:31:54   \n",
            "29996             3.8   Oka  Clothing and Accessories  02/11/2021, 01:31:54   \n",
            "29997             NaN   Oka  Clothing and Accessories  02/11/2021, 01:31:54   \n",
            "29998             3.8   Oka  Clothing and Accessories  02/11/2021, 01:31:55   \n",
            "29999             NaN   Oka  Clothing and Accessories  02/11/2021, 01:31:55   \n",
            "\n",
            "      description                                           discount  \\\n",
            "0         69% off  Yorker trackpants made from 100% rich combed c...   \n",
            "1         66% off  Yorker trackpants made from 100% rich combed c...   \n",
            "2         68% off  Yorker trackpants made from 100% rich combed c...   \n",
            "3         69% off  Yorker trackpants made from 100% rich combed c...   \n",
            "4         68% off  Yorker trackpants made from 100% rich combed c...   \n",
            "...           ...                                                ...   \n",
            "29995     40% off                                                NaN   \n",
            "29996     34% off                                                NaN   \n",
            "29997     40% off                                                NaN   \n",
            "29998     40% off                                                NaN   \n",
            "29999     40% off  ‘OKANE’ endeavors to continue to be a leader i...   \n",
            "\n",
            "                                                  images  out_of_stock  \\\n",
            "0      ['https://rukminim1.flixcart.com/image/128/128...         False   \n",
            "1      ['https://rukminim1.flixcart.com/image/128/128...         False   \n",
            "2      ['https://rukminim1.flixcart.com/image/128/128...         False   \n",
            "3      ['https://rukminim1.flixcart.com/image/128/128...         False   \n",
            "4      ['https://rukminim1.flixcart.com/image/128/128...         False   \n",
            "...                                                  ...           ...   \n",
            "29995  ['https://rukminim1.flixcart.com/image/128/128...          True   \n",
            "29996  ['https://rukminim1.flixcart.com/image/128/128...         False   \n",
            "29997  ['https://rukminim1.flixcart.com/image/128/128...          True   \n",
            "29998  ['https://rukminim1.flixcart.com/image/128/128...         False   \n",
            "29999  ['https://rukminim1.flixcart.com/image/128/128...          True   \n",
            "\n",
            "                    pid                                    product_details  \\\n",
            "0      TKPFCZ9EA7H5FYZH  [{'Style Code': '1005COMBO2'}, {'Closure': 'El...   \n",
            "1      TKPFCZ9EJZV2UVRZ  [{'Style Code': '1005BLUE'}, {'Closure': 'Draw...   \n",
            "2      TKPFCZ9EHFCY5Z4Y  [{'Style Code': '1005COMBO4'}, {'Closure': 'El...   \n",
            "3      TKPFCZ9ESZZ7YWEF  [{'Style Code': '1005COMBO3'}, {'Closure': 'El...   \n",
            "4      TKPFCZ9EVXKBSUD7  [{'Style Code': '1005COMBO1'}, {'Closure': 'Dr...   \n",
            "...                 ...                                                ...   \n",
            "29995  JCKFYPM35WMMTAEN  [{'Color': 'Blue'}, {'Fabric': 'Nylon'}, {'Pat...   \n",
            "29996  SRTFV8S7DCEWAQVH  [{'Fabric': 'Polycotton'}, {'Pattern': 'Printe...   \n",
            "29997  BZRFNAH7NWUB6F5E  [{'Color': 'Grey'}, {'Fabric': 'Tweed'}, {'Pat...   \n",
            "29998  JCKFWZZM6V7RS5EA  [{'Color': 'Blue'}, {'Fabric': 'Nylon'}, {'Pat...   \n",
            "29999  JCKFWTPCWNQSFAH3  [{'Color': 'Blue'}, {'Fabric': 'Nylon'}, {'Pat...   \n",
            "\n",
            "                  seller  selling_price                   sub_category  \\\n",
            "0      Shyam Enterprises          921.0                     Bottomwear   \n",
            "1      Shyam Enterprises          499.0                     Bottomwear   \n",
            "2      Shyam Enterprises          931.0                     Bottomwear   \n",
            "3      Shyam Enterprises          911.0                     Bottomwear   \n",
            "4      Shyam Enterprises          943.0                     Bottomwear   \n",
            "...                  ...            ...                            ...   \n",
            "29995                NaN         1379.0                    Winter Wear   \n",
            "29996              OKANE          520.0                     Bottomwear   \n",
            "29997                NaN         2999.0  Blazers, Waistcoats and Suits   \n",
            "29998              OKANE         1875.0                    Winter Wear   \n",
            "29999                NaN         1875.0                    Winter Wear   \n",
            "\n",
            "                                                   title  \\\n",
            "0                       Solid Men Multicolor Track Pants   \n",
            "1                             Solid Men Blue Track Pants   \n",
            "2                       Solid Men Multicolor Track Pants   \n",
            "3                       Solid Men Multicolor Track Pants   \n",
            "4                      Solid Men Brown, Grey Track Pants   \n",
            "...                                                  ...   \n",
            "29995                        Sleeveless Solid Men Jacket   \n",
            "29996                    Printed Men Blue Regular Shorts   \n",
            "29997  Checkered Single Breasted Casual Men Full Slee...   \n",
            "29998                Full Sleeve Solid Men Casual Jacket   \n",
            "29999                Full Sleeve Solid Men Casual Jacket   \n",
            "\n",
            "                                                     url  \n",
            "0      https://www.flipkart.com/yorker-solid-men-mult...  \n",
            "1      https://www.flipkart.com/yorker-solid-men-blue...  \n",
            "2      https://www.flipkart.com/yorker-solid-men-mult...  \n",
            "3      https://www.flipkart.com/yorker-solid-men-mult...  \n",
            "4      https://www.flipkart.com/yorker-solid-men-brow...  \n",
            "...                                                  ...  \n",
            "29995  https://www.flipkart.com/okane-sleeveless-soli...  \n",
            "29996  https://www.flipkart.com/okane-printed-men-blu...  \n",
            "29997  https://www.flipkart.com/okane-checkered-singl...  \n",
            "29998  https://www.flipkart.com/okane-full-sleeve-sol...  \n",
            "29999  https://www.flipkart.com/okane-full-sleeve-sol...  \n",
            "\n",
            "[30000 rows x 18 columns]>\n"
          ]
        }
      ],
      "source": [
        "print(df.describe)"
      ]
    },
    {
      "cell_type": "code",
      "execution_count": null,
      "metadata": {
        "colab": {
          "base_uri": "https://localhost:8080/"
        },
        "id": "l4Y0cTGQyIac",
        "outputId": "e23638e2-93ea-4576-9c01-b50fbe05e545"
      },
      "outputs": [
        {
          "output_type": "stream",
          "name": "stdout",
          "text": [
            "<class 'pandas.core.frame.DataFrame'>\n",
            "RangeIndex: 30000 entries, 0 to 29999\n",
            "Data columns (total 18 columns):\n",
            " #   Column           Non-Null Count  Dtype  \n",
            "---  ------           --------------  -----  \n",
            " 0   Unnamed: 0       30000 non-null  int64  \n",
            " 1   _id              30000 non-null  object \n",
            " 2   actual_price     29137 non-null  float64\n",
            " 3   average_rating   27554 non-null  float64\n",
            " 4   brand            27932 non-null  object \n",
            " 5   category         30000 non-null  object \n",
            " 6   crawled_at       30000 non-null  object \n",
            " 7   description      29059 non-null  object \n",
            " 8   discount         18017 non-null  object \n",
            " 9   images           30000 non-null  object \n",
            " 10  out_of_stock     30000 non-null  bool   \n",
            " 11  pid              30000 non-null  object \n",
            " 12  product_details  30000 non-null  object \n",
            " 13  seller           28259 non-null  object \n",
            " 14  selling_price    29998 non-null  float64\n",
            " 15  sub_category     30000 non-null  object \n",
            " 16  title            30000 non-null  object \n",
            " 17  url              30000 non-null  object \n",
            "dtypes: bool(1), float64(3), int64(1), object(13)\n",
            "memory usage: 3.9+ MB\n"
          ]
        }
      ],
      "source": [
        "df.info()"
      ]
    },
    {
      "cell_type": "code",
      "execution_count": null,
      "metadata": {
        "colab": {
          "base_uri": "https://localhost:8080/"
        },
        "id": "HXtjDr6NyLTW",
        "outputId": "57b36ab1-3cf1-4612-a8b5-be7a3c74091d"
      },
      "outputs": [
        {
          "output_type": "stream",
          "name": "stdout",
          "text": [
            "training set shape (21000, 13) (21000,)\n",
            "testing set shape: (9000, 13) (9000,)\n"
          ]
        }
      ],
      "source": [
        "df['average_rating'].fillna(df['average_rating'].mean(), inplace=True)\n",
        "\n",
        "target_variable = 'average_rating'\n",
        "\n",
        "# List of columns to be used as features\n",
        "feature_columns = ['brand', 'category', 'description', 'discount', 'actual_price', 'out_of_stock', 'pid', 'product_details', 'seller', 'selling_price', 'sub_category', 'title', 'url']\n",
        "\n",
        "\n",
        "features = df[feature_columns]\n",
        "target = df[target_variable]\n",
        "\n",
        "features_train,features_test,target_train, target_test=train_test_split(features,target, test_size=0.3,random_state=42)\n",
        "\n",
        "print(\"training set shape\",features_train.shape,target_train.shape)\n",
        "print(\"testing set shape:\",features_test.shape,target_test.shape)"
      ]
    },
    {
      "cell_type": "code",
      "execution_count": null,
      "metadata": {
        "colab": {
          "base_uri": "https://localhost:8080/"
        },
        "id": "Z_HfoOs539AP",
        "outputId": "d96cff8a-0397-4497-e637-333e2ca31338"
      },
      "outputs": [
        {
          "output_type": "stream",
          "name": "stdout",
          "text": [
            "Preprocessed Training Set Shape: (21000, 70437)\n",
            "Preprocessed Testing Set Shape: (9000, 70437)\n"
          ]
        }
      ],
      "source": [
        "numerical_columns = features.select_dtypes(include=['float64']).columns\n",
        "categorical_columns = features.select_dtypes(include=['object']).columns\n",
        "\n",
        "# Create transformers for numerical and categorical columns\n",
        "numerical_transformer = Pipeline(steps=[\n",
        "    ('imputer', SimpleImputer(strategy='mean')),  # Use mean imputation for numerical columns\n",
        "    ('num', OneHotEncoder(handle_unknown='ignore'))\n",
        "])\n",
        "\n",
        "categorical_transformer = Pipeline(steps=[\n",
        "    ('imputer', SimpleImputer(strategy='most_frequent')),  # Use most frequent imputation for categorical columns\n",
        "    ('cat', OneHotEncoder(handle_unknown='ignore'))\n",
        "])\n",
        "\n",
        "# Create a ColumnTransformer to apply transformers to specific columns\n",
        "preprocessor = ColumnTransformer(\n",
        "    transformers=[\n",
        "        ('num', numerical_transformer, numerical_columns),\n",
        "        ('cat', categorical_transformer, categorical_columns)\n",
        "    ],\n",
        "    remainder='passthrough'\n",
        ")\n",
        "\n",
        "# Apply preprocessing to the training and testing sets\n",
        "features_train_preprocessed = preprocessor.fit_transform(features_train)\n",
        "features_test_preprocessed = preprocessor.transform(features_test)\n",
        "\n",
        "print(\"Preprocessed Training Set Shape:\", features_train_preprocessed.shape)\n",
        "print(\"Preprocessed Testing Set Shape:\", features_test_preprocessed.shape)\n"
      ]
    },
    {
      "cell_type": "code",
      "execution_count": null,
      "metadata": {
        "colab": {
          "base_uri": "https://localhost:8080/"
        },
        "id": "x0ZD3EQscuSQ",
        "outputId": "98b7552f-ae59-41f8-93cf-f92de93f20c9"
      },
      "outputs": [
        {
          "output_type": "stream",
          "name": "stdout",
          "text": [
            "Mean Absolute Error: 0.2131415315380707\n",
            "Accuracy: 0.8814444444444445\n",
            "Confusion Matrix:\n",
            "[[2330  573]\n",
            " [ 494 5603]]\n"
          ]
        }
      ],
      "source": [
        "model = KNeighborsRegressor(n_neighbors=5)\n",
        "\n",
        "# Train the model\n",
        "model.fit(features_train_preprocessed, target_train)\n",
        "\n",
        "# Make predictions on the test set\n",
        "predictions = model.predict(features_test_preprocessed)\n",
        "\n",
        "# Evaluate mean squared error\n",
        "mae = mean_absolute_error(target_test, predictions)\n",
        "print(\"Mean Absolute Error:\", mae)\n",
        "\n",
        "threshold = 3.5\n",
        "\n",
        "# Convert ratings to binary labels\n",
        "predictions_binary = (predictions > threshold).astype(int)\n",
        "target_test_binary = (target_test > threshold).astype(int)\n",
        "\n",
        "# Use accuracy_score and confusion_matrix for binary classification\n",
        "accuracy = accuracy_score(target_test_binary, predictions_binary)\n",
        "print(\"Accuracy:\", accuracy)\n",
        "\n",
        "conf_matrix = confusion_matrix(target_test_binary, predictions_binary)\n",
        "print(\"Confusion Matrix:\")\n",
        "print(conf_matrix)"
      ]
    },
    {
      "cell_type": "code",
      "execution_count": null,
      "metadata": {
        "colab": {
          "base_uri": "https://localhost:8080/"
        },
        "id": "uWAmeVasRoA_",
        "outputId": "22b7fcae-326e-4a48-9359-e166c0a95e96"
      },
      "outputs": [
        {
          "output_type": "stream",
          "name": "stderr",
          "text": [
            "<ipython-input-28-4ed9e6d9083e>:1: SettingWithCopyWarning: \n",
            "A value is trying to be set on a copy of a slice from a DataFrame.\n",
            "Try using .loc[row_indexer,col_indexer] = value instead\n",
            "\n",
            "See the caveats in the documentation: https://pandas.pydata.org/pandas-docs/stable/user_guide/indexing.html#returning-a-view-versus-a-copy\n",
            "  features['content'] = features['brand'] + ' ' + features['category'] + ' ' + features['discount'] + ' ' + \\\n",
            "<ipython-input-28-4ed9e6d9083e>:3: SettingWithCopyWarning: \n",
            "A value is trying to be set on a copy of a slice from a DataFrame.\n",
            "Try using .loc[row_indexer,col_indexer] = value instead\n",
            "\n",
            "See the caveats in the documentation: https://pandas.pydata.org/pandas-docs/stable/user_guide/indexing.html#returning-a-view-versus-a-copy\n",
            "  features['content'] = features['content'].fillna('')\n"
          ]
        }
      ],
      "source": [
        "features['content'] = features['brand'] + ' ' + features['category'] + ' ' + features['discount'] + ' ' + \\\n",
        "                       features['seller'] + ' ' + features['sub_category'] + ' ' + features['title']\n",
        "features['content'] = features['content'].fillna('')\n",
        "tfidf_vectorizer = TfidfVectorizer(stop_words='english')\n",
        "tfidf_matrix = tfidf_vectorizer.fit_transform(features['content'])\n",
        "cosine_sim = linear_kernel(tfidf_matrix, tfidf_matrix)"
      ]
    },
    {
      "cell_type": "code",
      "source": [],
      "metadata": {
        "id": "x3OKVgxQJzF6"
      },
      "execution_count": null,
      "outputs": []
    },
    {
      "cell_type": "code",
      "execution_count": null,
      "metadata": {
        "id": "1suoqswjRq2Q"
      },
      "outputs": [],
      "source": [
        "def get_recommendations(item_id):\n",
        "    idx = df[df['pid'] == item_id].index[0]\n",
        "    sim_scores = list(enumerate(cosine_sim[idx]))\n",
        "    sim_scores = sorted(sim_scores, key=lambda x: x[1], reverse=True)\n",
        "    sim_scores = sim_scores[1:11]\n",
        "    item_indices = [i[0] for i in sim_scores]\n",
        "    recommended_items = df.iloc[item_indices]\n",
        "    return recommended_items\n"
      ]
    },
    {
      "cell_type": "code",
      "execution_count": null,
      "metadata": {
        "id": "SSvgkSXVRuk6"
      },
      "outputs": [],
      "source": []
    },
    {
      "cell_type": "code",
      "execution_count": null,
      "metadata": {
        "id": "WjIqmljeVNn8"
      },
      "outputs": [],
      "source": [
        "# def get_recommendations_by_inputs(df, rating=None, brand=None, category=None, discount=None, seller=None, selling_price=None, subcategory=None):\n",
        "#     # Convert relevant columns to float type\n",
        "#     numeric_columns = ['average_rating', 'selling_price']\n",
        "#     df[numeric_columns] = df[numeric_columns].astype(float)\n",
        "\n",
        "#     # Filter the DataFrame based on input values\n",
        "#     filtered_df = df.copy()\n",
        "#     if rating is not None:\n",
        "#         filtered_df = filtered_df[filtered_df['average_rating'] >= float(rating)]\n",
        "#     if brand is not None:\n",
        "#         filtered_df = filtered_df[filtered_df['brand'] == brand]\n",
        "#     if category is not None:\n",
        "#         filtered_df = filtered_df[filtered_df['category'] == category]\n",
        "#     if discount is not None:\n",
        "#         filtered_df = filtered_df[filtered_df['discount'] == discount]\n",
        "#     if seller is not None:\n",
        "#         filtered_df = filtered_df[filtered_df['seller'] == seller]\n",
        "#     if selling_price is not None:\n",
        "#         filtered_df = filtered_df[filtered_df['selling_price'] <= float(selling_price)]\n",
        "#     if subcategory is not None:\n",
        "#         filtered_df = filtered_df[filtered_df['sub_category'] == subcategory]\n",
        "\n",
        "#     # Check if the filtered DataFrame is empty\n",
        "#     if filtered_df.empty:\n",
        "#         return \"No products match the specified criteria.\"\n",
        "\n",
        "#     # Reset the index of the filtered DataFrame\n",
        "#     filtered_df = filtered_df.reset_index(drop=True)\n",
        "\n",
        "#     # Define numerical columns\n",
        "#     numerical_columns = ['average_rating', 'selling_price']\n",
        "\n",
        "#     # Filter out non-numeric columns\n",
        "#     filtered_columns = numerical_columns + ['brand', 'category', 'discount', 'seller', 'sub_category', 'title']\n",
        "\n",
        "#     # Remove columns that are not in the DataFrame\n",
        "#     filtered_columns = [col for col in filtered_columns if col in filtered_df.columns]\n",
        "\n",
        "#     # Combine transformers using ColumnTransformer\n",
        "#     preprocessor = ColumnTransformer(\n",
        "#         transformers=[\n",
        "#             ('num', numerical_transformer, numerical_columns),\n",
        "#             ('cat', categorical_transformer, filtered_columns),\n",
        "#         ]\n",
        "#     )\n",
        "\n",
        "#     # Fit and transform the data with the pipeline\n",
        "#     X_filtered = preprocessor.fit_transform(filtered_df[filtered_columns])\n",
        "\n",
        "#     # Compute the cosine similarity matrix for the sample\n",
        "#     cosine_sim_sample = cosine_similarity(X_filtered, X_filtered)\n",
        "\n",
        "#     # Generate recommendations based on the cosine similarity matrix\n",
        "#     idx = 0  # Using index 0 assuming filtered_df is not empty\n",
        "#     sim_scores = list(enumerate(cosine_sim_sample[idx]))\n",
        "#     sim_scores = sorted(sim_scores, key=lambda x: x[1], reverse=True)\n",
        "#     sim_scores = sim_scores[1:11]\n",
        "#     item_indices = [i[0] for i in sim_scores]\n",
        "#     recommendations = filtered_df.iloc[item_indices]\n",
        "\n",
        "#     return recommendations\n"
      ]
    },
    {
      "cell_type": "code",
      "source": [
        "def get_recommendations_by_inputs(rating=None, brand=None, category=None, discount=None, seller=None, selling_price=None, subcategory=None):\n",
        "    global df\n",
        "    # Convert relevant columns to float type\n",
        "    numeric_columns = ['average_rating', 'selling_price']\n",
        "    df[numeric_columns] = df[numeric_columns].astype(float)\n",
        "\n",
        "    # Filter the DataFrame based on input values\n",
        "    filtered_df = df.copy()\n",
        "    if rating is not None:\n",
        "        filtered_df = filtered_df[filtered_df['average_rating'] >= float(rating)]\n",
        "    if brand is not None:\n",
        "        filtered_df = filtered_df[filtered_df['brand'] == brand]\n",
        "    if category is not None:\n",
        "        filtered_df = filtered_df[filtered_df['category'] == category]\n",
        "    if discount is not None:\n",
        "        filtered_df = filtered_df[filtered_df['discount'] == discount]\n",
        "    if seller is not None:\n",
        "        filtered_df = filtered_df[filtered_df['seller'] == seller]\n",
        "    if selling_price is not None:\n",
        "        filtered_df = filtered_df[filtered_df['selling_price'] <= float(selling_price)]\n",
        "    if subcategory is not None:\n",
        "        filtered_df = filtered_df[filtered_df['sub_category'] == subcategory]\n",
        "\n",
        "    # Check if the filtered DataFrame is empty\n",
        "    if filtered_df.empty:\n",
        "        return pd.DataFrame()  # Return an empty DataFrame\n",
        "\n",
        "    # Reset the index of the filtered DataFrame\n",
        "    filtered_df = filtered_df.reset_index(drop=True)\n",
        "\n",
        "    # Define numerical columns\n",
        "    numerical_columns = ['average_rating', 'selling_price']\n",
        "\n",
        "    # Filter out non-numeric columns\n",
        "    filtered_columns = numerical_columns + ['brand', 'category', 'discount', 'seller', 'sub_category', 'title']\n",
        "\n",
        "    # Remove columns that are not in the DataFrame\n",
        "    filtered_columns = [col for col in filtered_columns if col in filtered_df.columns]\n",
        "\n",
        "    # Combine transformers using ColumnTransformer\n",
        "    preprocessor = ColumnTransformer(\n",
        "        transformers=[\n",
        "            ('num', numerical_transformer, numerical_columns),\n",
        "            ('cat', categorical_transformer, filtered_columns),\n",
        "        ]\n",
        "    )\n",
        "\n",
        "    # Fit and transform the data with the pipeline\n",
        "    X_filtered = preprocessor.fit_transform(filtered_df[filtered_columns])\n",
        "\n",
        "    # Compute the cosine similarity matrix for the sample\n",
        "    cosine_sim_sample = cosine_similarity(X_filtered, X_filtered)\n",
        "\n",
        "    # Generate recommendations based on the cosine similarity matrix\n",
        "    idx = 0  # Using index 0 assuming filtered_df is not empty\n",
        "    sim_scores = list(enumerate(cosine_sim_sample[idx]))\n",
        "    sim_scores = sorted(sim_scores, key=lambda x: x[1], reverse=True)\n",
        "    sim_scores = sim_scores[1:11]\n",
        "    item_indices = [i[0] for i in sim_scores]\n",
        "    recommendations = filtered_df.iloc[item_indices]\n",
        "\n",
        "\n",
        "\n",
        "    return recommendations\n"
      ],
      "metadata": {
        "id": "o4dMMAMs2r1h"
      },
      "execution_count": null,
      "outputs": []
    },
    {
      "cell_type": "code",
      "source": [
        "# # Example: Get recommendations for an item with pid 'example_pid'\n",
        "# example_pid = 'TKPFCZ9EHFCY5Z4Y'  # Replace with a valid item ID\n",
        "# recommendations = get_recommendations(example_pid)\n",
        "# print(recommendations)"
      ],
      "metadata": {
        "id": "wKKY7TpCg1KL"
      },
      "execution_count": null,
      "outputs": []
    },
    {
      "cell_type": "code",
      "execution_count": null,
      "metadata": {
        "id": "Dw6lTbpCVNgW",
        "scrolled": false
      },
      "outputs": [],
      "source": [
        "# # Example: Get recommendations based on rating and brand\n",
        "# recommendations = get_recommendations_by_inputs(df ,subcategory='Bottomwear',brand='adidas Origina',selling_price=2159)\n",
        "# print(recommendations)\n"
      ]
    },
    {
      "cell_type": "code",
      "source": [
        "import joblib\n",
        "\n",
        "joblib.dump(model, 'ecommerce.joblib')\n"
      ],
      "metadata": {
        "id": "zlkhGLbFJts1",
        "colab": {
          "base_uri": "https://localhost:8080/"
        },
        "outputId": "c40767a2-ba7e-4577-8d64-4c485933b645"
      },
      "execution_count": null,
      "outputs": [
        {
          "output_type": "execute_result",
          "data": {
            "text/plain": [
              "['ecommerce.joblib']"
            ]
          },
          "metadata": {},
          "execution_count": 36
        }
      ]
    },
    {
      "cell_type": "code",
      "source": [
        "def get_recommendations(item_id):\n",
        "    # Check if the item_id exists in the dataframe\n",
        "    if df[df['pid'] == item_id].empty:\n",
        "        return pd.DataFrame()  # Return an empty DataFrame\n",
        "\n",
        "    # Get the index of the item_id\n",
        "    idx = df[df['pid'] == item_id].index[0]\n",
        "\n",
        "    # Get item-based recommendations based on the index\n",
        "    sim_scores = list(enumerate(cosine_sim[idx]))\n",
        "    sim_scores = sorted(sim_scores, key=lambda x: x[1], reverse=True)\n",
        "    sim_scores = sim_scores[1:11]\n",
        "    item_indices = [i[0] for i in sim_scores]\n",
        "    recommended_items = df.iloc[item_indices]\n",
        "\n",
        "    return recommended_items\n",
        "\n"
      ],
      "metadata": {
        "id": "vk9P8myiEVuV"
      },
      "execution_count": null,
      "outputs": []
    },
    {
      "cell_type": "code",
      "source": [
        "# Example: Get recommendations for an item with pid 'example_pid'\n",
        "example_pid = 'TKPFCZ9EHFCY5Z4Y'  # Replace with a valid item ID\n",
        "recommendations = get_recommendations(example_pid)\n",
        "print(recommendations)"
      ],
      "metadata": {
        "colab": {
          "base_uri": "https://localhost:8080/"
        },
        "id": "VqcdA2pqEYX1",
        "outputId": "5c1276ac-8575-4cfb-f3c6-53117fbfa600"
      },
      "execution_count": null,
      "outputs": [
        {
          "output_type": "stream",
          "name": "stdout",
          "text": [
            "    Unnamed: 0                                   _id  actual_price  \\\n",
            "2            2  eb4c8eab-8206-59d0-bcd1-a724d96bf74f        2999.0   \n",
            "3            3  3f3f97bb-5faf-57df-a9ff-1af24e2b1045        2999.0   \n",
            "5            5  9af4ac75-230b-5d51-8bbf-2ffb19aaa763        4499.0   \n",
            "19          19  2cc3eb4c-42b5-5bc5-9eb6-0f438f45dd58        2999.0   \n",
            "27          27  a4a976d7-483d-5fff-8e75-cdc481138215        4599.0   \n",
            "1            1  893e6980-f2a0-531f-b056-34dd63fe912c        1499.0   \n",
            "8            8  ab4f0cca-6a84-51e1-b7e8-523724db8728        1499.0   \n",
            "9            9  f8a91e89-c5db-5fa5-9428-1f580a72d05e        1499.0   \n",
            "23          23  4bd87d93-7851-5536-9804-9c6d502809dc        4599.0   \n",
            "7            7  a33cf2e2-c5e4-5f06-b3aa-8f46a6fd1aef        1499.0   \n",
            "\n",
            "    average_rating brand                  category            crawled_at  \\\n",
            "2              3.9  York  Clothing and Accessories  02/10/2021, 20:11:52   \n",
            "3              3.9  York  Clothing and Accessories  02/10/2021, 20:11:53   \n",
            "5              3.8  York  Clothing and Accessories  02/10/2021, 20:11:54   \n",
            "19             3.9  York  Clothing and Accessories  02/10/2021, 20:12:01   \n",
            "27             3.8  York  Clothing and Accessories  02/10/2021, 20:12:05   \n",
            "1              3.9  York  Clothing and Accessories  02/10/2021, 20:11:52   \n",
            "8              3.8  York  Clothing and Accessories  02/10/2021, 20:11:55   \n",
            "9              3.7  York  Clothing and Accessories  02/10/2021, 20:11:56   \n",
            "23             3.8  York  Clothing and Accessories  02/10/2021, 20:12:03   \n",
            "7              3.8  York  Clothing and Accessories  02/10/2021, 20:11:55   \n",
            "\n",
            "   description                                           discount  \\\n",
            "2      68% off  Yorker trackpants made from 100% rich combed c...   \n",
            "3      69% off  Yorker trackpants made from 100% rich combed c...   \n",
            "5      74% off  Yorker trackpants made from 100% rich combed c...   \n",
            "19     69% off  Yorker trackpants made from 100% rich combed c...   \n",
            "27     76% off  Yorker trackpants made from 100% rich combed c...   \n",
            "1      66% off  Yorker trackpants made from 100% rich combed c...   \n",
            "8      67% off  Yorker trackpants made from 100% rich combed c...   \n",
            "9      64% off  Yorker trackpants made from 100% rich combed c...   \n",
            "23     76% off  Yorker trackpants made from 100% rich combed c...   \n",
            "7      63% off  Yorker trackpants made from 100% rich combed c...   \n",
            "\n",
            "                                               images  out_of_stock  \\\n",
            "2   ['https://rukminim1.flixcart.com/image/128/128...         False   \n",
            "3   ['https://rukminim1.flixcart.com/image/128/128...         False   \n",
            "5   ['https://rukminim1.flixcart.com/image/128/128...         False   \n",
            "19  ['https://rukminim1.flixcart.com/image/128/128...         False   \n",
            "27  ['https://rukminim1.flixcart.com/image/128/128...         False   \n",
            "1   ['https://rukminim1.flixcart.com/image/128/128...         False   \n",
            "8   ['https://rukminim1.flixcart.com/image/128/128...         False   \n",
            "9   ['https://rukminim1.flixcart.com/image/128/128...         False   \n",
            "23  ['https://rukminim1.flixcart.com/image/128/128...         False   \n",
            "7   ['https://rukminim1.flixcart.com/image/128/128...         False   \n",
            "\n",
            "                 pid                                    product_details  \\\n",
            "2   TKPFCZ9EHFCY5Z4Y  [{'Style Code': '1005COMBO4'}, {'Closure': 'El...   \n",
            "3   TKPFCZ9ESZZ7YWEF  [{'Style Code': '1005COMBO3'}, {'Closure': 'El...   \n",
            "5   TKPFCZ9EFK9DNWDA  [{'Style Code': '1005COMBO12'}, {'Closure': 'E...   \n",
            "19  TKPFCZ9EHCNAPKPU  [{'Style Code': '1005COMBO5'}, {'Closure': 'El...   \n",
            "27  TKPFCZ9EZDPZR5AH  [{'Style Code': '1005COMBO11'}, {'Closure': 'E...   \n",
            "1   TKPFCZ9EJZV2UVRZ  [{'Style Code': '1005BLUE'}, {'Closure': 'Draw...   \n",
            "8   TKPFCZ9DYU33FFXS  [{'Style Code': '1005BLACK'}, {'Closure': 'Dra...   \n",
            "9   TKPFDABN4NQFVKZY  [{'Style Code': '1005MLGREY'}, {'Closure': 'El...   \n",
            "23  TKPFCZ9EGGYENTZS  [{'Style Code': '1005COMBO10'}, {'Closure': 'D...   \n",
            "7   TKPFCZ9ESGZYT8NH  [{'Style Code': '1005DSKIN'}, {'Closure': 'Ela...   \n",
            "\n",
            "               seller  selling_price sub_category  \\\n",
            "2   Shyam Enterprises          931.0   Bottomwear   \n",
            "3   Shyam Enterprises          911.0   Bottomwear   \n",
            "5   Shyam Enterprises         1169.0   Bottomwear   \n",
            "19  Shyam Enterprises          921.0   Bottomwear   \n",
            "27  Shyam Enterprises         1067.0   Bottomwear   \n",
            "1   Shyam Enterprises          499.0   Bottomwear   \n",
            "8   Shyam Enterprises          489.0   Bottomwear   \n",
            "9   Shyam Enterprises          531.0   Bottomwear   \n",
            "23  Shyam Enterprises         1074.0   Bottomwear   \n",
            "7   Shyam Enterprises          545.0   Bottomwear   \n",
            "\n",
            "                                     title  \\\n",
            "2         Solid Men Multicolor Track Pants   \n",
            "3         Solid Men Multicolor Track Pants   \n",
            "5         Solid Men Multicolor Track Pants   \n",
            "19        Solid Men Multicolor Track Pants   \n",
            "27        Solid Men Multicolor Track Pants   \n",
            "1               Solid Men Blue Track Pants   \n",
            "8              Solid Men Black Track Pants   \n",
            "9               Solid Men Grey Track Pants   \n",
            "23  Color Block Men Multicolor Track Pants   \n",
            "7              Solid Men Beige Track Pants   \n",
            "\n",
            "                                                  url  \n",
            "2   https://www.flipkart.com/yorker-solid-men-mult...  \n",
            "3   https://www.flipkart.com/yorker-solid-men-mult...  \n",
            "5   https://www.flipkart.com/yorker-solid-men-mult...  \n",
            "19  https://www.flipkart.com/yorker-solid-men-mult...  \n",
            "27  https://www.flipkart.com/yorker-solid-men-mult...  \n",
            "1   https://www.flipkart.com/yorker-solid-men-blue...  \n",
            "8   https://www.flipkart.com/yorker-solid-men-blac...  \n",
            "9   https://www.flipkart.com/yorker-solid-men-grey...  \n",
            "23  https://www.flipkart.com/yorker-color-block-me...  \n",
            "7   https://www.flipkart.com/yorker-solid-men-beig...  \n"
          ]
        }
      ]
    }
  ],
  "metadata": {
    "colab": {
      "provenance": []
    },
    "kernelspec": {
      "display_name": "Python 3 (ipykernel)",
      "language": "python",
      "name": "python3"
    },
    "language_info": {
      "codemirror_mode": {
        "name": "ipython",
        "version": 3
      },
      "file_extension": ".py",
      "mimetype": "text/x-python",
      "name": "python",
      "nbconvert_exporter": "python",
      "pygments_lexer": "ipython3",
      "version": "3.11.5"
    }
  },
  "nbformat": 4,
  "nbformat_minor": 0
}